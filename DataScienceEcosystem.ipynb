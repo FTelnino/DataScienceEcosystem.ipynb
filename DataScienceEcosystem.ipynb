{
  "metadata": {
    "language_info": {
      "codemirror_mode": {
        "name": "python",
        "version": 3
      },
      "file_extension": ".py",
      "mimetype": "text/x-python",
      "name": "python",
      "nbconvert_exporter": "python",
      "pygments_lexer": "ipython3",
      "version": "3.8"
    },
    "kernelspec": {
      "name": "python",
      "display_name": "Python (Pyodide)",
      "language": "python"
    }
  },
  "nbformat_minor": 4,
  "nbformat": 4,
  "cells": [
    {
      "cell_type": "markdown",
      "source": "# Data Science Tools and Ecosystem",
      "metadata": {}
    },
    {
      "cell_type": "markdown",
      "source": "Data Science Tools and Ecosystem are summarized here",
      "metadata": {}
    },
    {
      "cell_type": "markdown",
      "source": "Popular data science languages:",
      "metadata": {}
    },
    {
      "cell_type": "markdown",
      "source": "* 1. Python",
      "metadata": {}
    },
    {
      "cell_type": "markdown",
      "source": "* 2. R Studio",
      "metadata": {}
    },
    {
      "cell_type": "markdown",
      "source": "* 3. SQL",
      "metadata": {}
    },
    {
      "cell_type": "markdown",
      "source": "Some of the commonly used libraries used by Data Scientists include:",
      "metadata": {}
    },
    {
      "cell_type": "markdown",
      "source": "* Numpy",
      "metadata": {}
    },
    {
      "cell_type": "markdown",
      "source": "* Matplotlib",
      "metadata": {}
    },
    {
      "cell_type": "markdown",
      "source": "* Keras",
      "metadata": {}
    },
    {
      "cell_type": "markdown",
      "source": "| Data Science Tools |\n| --------------- | \n| Visual Studio Code |\n| Atom |\n| Eclipse |",
      "metadata": {}
    },
    {
      "cell_type": "markdown",
      "source": "### Below are a few examples of evaluating arithmetic expressions in Python ",
      "metadata": {}
    },
    {
      "cell_type": "code",
      "source": "#This a simple arithmetic expression to mutiply then add integers",
      "metadata": {
        "trusted": true
      },
      "execution_count": 1,
      "outputs": []
    },
    {
      "cell_type": "code",
      "source": "(3*4)+5",
      "metadata": {
        "trusted": true
      },
      "execution_count": 2,
      "outputs": [
        {
          "execution_count": 2,
          "output_type": "execute_result",
          "data": {
            "text/plain": "17"
          },
          "metadata": {}
        }
      ]
    },
    {
      "cell_type": "code",
      "source": "# This will convert 200 minutes to hours by diving by 60",
      "metadata": {
        "trusted": true
      },
      "execution_count": 3,
      "outputs": []
    },
    {
      "cell_type": "code",
      "source": "200/60",
      "metadata": {
        "trusted": true
      },
      "execution_count": 4,
      "outputs": [
        {
          "execution_count": 4,
          "output_type": "execute_result",
          "data": {
            "text/plain": "3.3333333333333335"
          },
          "metadata": {}
        }
      ]
    },
    {
      "cell_type": "markdown",
      "source": "**Objectives:**",
      "metadata": {}
    },
    {
      "cell_type": "markdown",
      "source": "List popular languages for Data Science:",
      "metadata": {}
    },
    {
      "cell_type": "markdown",
      "source": "* Python",
      "metadata": {}
    },
    {
      "cell_type": "markdown",
      "source": "* SQL",
      "metadata": {}
    },
    {
      "cell_type": "markdown",
      "source": "* Java",
      "metadata": {}
    },
    {
      "cell_type": "markdown",
      "source": "* R",
      "metadata": {}
    },
    {
      "cell_type": "markdown",
      "source": "* Julia",
      "metadata": {}
    },
    {
      "cell_type": "markdown",
      "source": "* MATLAB",
      "metadata": {}
    },
    {
      "cell_type": "markdown",
      "source": "## Author",
      "metadata": {}
    },
    {
      "cell_type": "markdown",
      "source": "Nikhil",
      "metadata": {}
    },
    {
      "cell_type": "code",
      "source": "",
      "metadata": {},
      "execution_count": null,
      "outputs": []
    }
  ]
}